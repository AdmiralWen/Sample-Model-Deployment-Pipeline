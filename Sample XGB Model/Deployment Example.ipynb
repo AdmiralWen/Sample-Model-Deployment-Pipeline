{
 "cells": [
  {
   "cell_type": "markdown",
   "metadata": {},
   "source": [
    "## XGB Model Deployment Example\n",
    "Example of how the model can be called on a single input record. Input is in JSON format for now."
   ]
  },
  {
   "cell_type": "code",
   "execution_count": 1,
   "metadata": {},
   "outputs": [],
   "source": [
    "# Load model library:\n",
    "%run sample_xgb_model.py"
   ]
  },
  {
   "cell_type": "code",
   "execution_count": 2,
   "metadata": {},
   "outputs": [],
   "source": [
    "# Input record (JSON format):\n",
    "input_rec = [{\n",
    "    'binary1': 1,\n",
    "    'binary2': 1,\n",
    "    'binary3': 1,\n",
    "    'cat1': 'R',\n",
    "    'cat2': 'PP',\n",
    "    'cat3': 3553.0,\n",
    "    'date1': '2018-02-05',\n",
    "    'date2': '2019-02-05',\n",
    "    'dummy_name': '2Zl*3Nb&',\n",
    "    'dummy_rating': 'A1',\n",
    "    'num1': '',\n",
    "    'num2': 51.0,\n",
    "    'num3': '',\n",
    "    'num4': 4.0,\n",
    "    'num5': '',\n",
    "    'pca1': 1.92,\n",
    "    'pca10': 1.05,\n",
    "    'pca2': 1.28,\n",
    "    'pca3': 1.1,\n",
    "    'pca4': 1.4,\n",
    "    'pca5': 1.03,\n",
    "    'pca6': 1.73,\n",
    "    'pca7': 1.65,\n",
    "    'pca8': 1.98,\n",
    "    'pca9': 1.86,\n",
    "    'row_id': 2,\n",
    "    'target_var': 0\n",
    "}]"
   ]
  },
  {
   "cell_type": "code",
   "execution_count": 3,
   "metadata": {},
   "outputs": [
    {
     "data": {
      "text/plain": [
       "0.7154076"
      ]
     },
     "execution_count": 3,
     "metadata": {},
     "output_type": "execute_result"
    }
   ],
   "source": [
    "callModel(input_rec, 'sample_xgb.model')"
   ]
  }
 ],
 "metadata": {
  "kernelspec": {
   "display_name": "Python 3",
   "language": "python",
   "name": "python3"
  },
  "language_info": {
   "codemirror_mode": {
    "name": "ipython",
    "version": 3
   },
   "file_extension": ".py",
   "mimetype": "text/x-python",
   "name": "python",
   "nbconvert_exporter": "python",
   "pygments_lexer": "ipython3",
   "version": "3.6.3"
  }
 },
 "nbformat": 4,
 "nbformat_minor": 2
}
