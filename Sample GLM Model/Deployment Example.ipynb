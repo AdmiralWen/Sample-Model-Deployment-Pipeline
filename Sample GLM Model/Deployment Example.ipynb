{
 "cells": [
  {
   "cell_type": "markdown",
   "metadata": {},
   "source": [
    "## GLM Model Deployment Example\n",
    "Example of how the model can be called on a single input record. Input is in JSON format for now."
   ]
  },
  {
   "cell_type": "code",
   "execution_count": 2,
   "metadata": {},
   "outputs": [],
   "source": [
    "# Load model library:\n",
    "%run sample_glm_model.py"
   ]
  },
  {
   "cell_type": "code",
   "execution_count": 3,
   "metadata": {},
   "outputs": [],
   "source": [
    "# Input record (JSON format):\n",
    "input_rec = [{\n",
    "    'binary1': 1,\n",
    "    'binary2': 1,\n",
    "    'binary3': 1,\n",
    "    'cat1': 'R',\n",
    "    'cat2': 'PP',\n",
    "    'cat3': 7389.0,\n",
    "    'date1': '2018-02-12',\n",
    "    'date2': '2019-02-12',\n",
    "    'dummy_name': '1Tv!5Ns+',\n",
    "    'dummy_rating': 'A1',\n",
    "    'num1': 2011.0,\n",
    "    'num2': 21.0,\n",
    "    'num3': 528.0,\n",
    "    'num4': 80.0,\n",
    "    'num5': 1431.0,\n",
    "    'pca1': 1.2,\n",
    "    'pca10': 1.1,\n",
    "    'pca2': 1.94,\n",
    "    'pca3': 1.88,\n",
    "    'pca4': 1.61,\n",
    "    'pca5': 1.72,\n",
    "    'pca6': 1.79,\n",
    "    'pca7': 1.62,\n",
    "    'pca8': 1.24,\n",
    "    'pca9': 1.44,\n",
    "    'row_id': 4,\n",
    "    'target_var': 0\n",
    "}]"
   ]
  },
  {
   "cell_type": "code",
   "execution_count": 4,
   "metadata": {},
   "outputs": [
    {
     "data": {
      "text/plain": [
       "0.5480928622354541"
      ]
     },
     "execution_count": 4,
     "metadata": {},
     "output_type": "execute_result"
    }
   ],
   "source": [
    "callModel(input_rec, 'sample_glm.pkl')"
   ]
  }
 ],
 "metadata": {
  "kernelspec": {
   "display_name": "Python 3",
   "language": "python",
   "name": "python3"
  },
  "language_info": {
   "codemirror_mode": {
    "name": "ipython",
    "version": 3
   },
   "file_extension": ".py",
   "mimetype": "text/x-python",
   "name": "python",
   "nbconvert_exporter": "python",
   "pygments_lexer": "ipython3",
   "version": "3.6.3"
  }
 },
 "nbformat": 4,
 "nbformat_minor": 2
}
