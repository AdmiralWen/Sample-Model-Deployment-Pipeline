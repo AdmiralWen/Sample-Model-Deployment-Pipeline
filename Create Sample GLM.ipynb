{
 "cells": [
  {
   "cell_type": "markdown",
   "metadata": {},
   "source": [
    "## Create Sample GLM Model with Sample Dataset"
   ]
  },
  {
   "cell_type": "code",
   "execution_count": 1,
   "metadata": {},
   "outputs": [],
   "source": [
    "# Import libraries:\n",
    "import pandas as pd\n",
    "import numpy as np\n",
    "from math import log\n",
    "import pickle as pk\n",
    "\n",
    "pd.set_option('display.max_columns', 200)"
   ]
  },
  {
   "cell_type": "code",
   "execution_count": 2,
   "metadata": {},
   "outputs": [],
   "source": [
    "# Read in data:\n",
    "data0 = pd.read_excel('sample_training_data.xlsx')"
   ]
  },
  {
   "cell_type": "markdown",
   "metadata": {},
   "source": [
    "### Data transformations"
   ]
  },
  {
   "cell_type": "code",
   "execution_count": 3,
   "metadata": {},
   "outputs": [],
   "source": [
    "data = data0.copy()\n",
    "\n",
    "# Create date-length variable:\n",
    "data['date1'] = pd.to_datetime(data['date1'])\n",
    "data['date2'] = pd.to_datetime(data['date2'])\n",
    "data['date_diff'] = (data['date2'] - data['date1']).map(lambda x: x.days)\n",
    "\n",
    "# Create new cat3_1D variable (simulates SIC-1D):\n",
    "data['cat3_1D'] = data['cat3'].map(lambda x: str(x)[0], na_action = 'ignore')\n",
    "\n",
    "# Handle dummy_rating:\n",
    "data['dummy_rating_cat'] = np.where(data['dummy_rating'].str.contains('A'), 1, -1)\n",
    "data['dummy_rating_cat'] = np.where(pd.isnull(data['dummy_rating']), np.nan, data['dummy_rating_cat'])\n",
    "\n",
    "# Handle num1 and num5:\n",
    "data['num1'] = data['num1'] - 1900\n",
    "data['num5'] = data['num5'].map(lambda x: log(x + 1) if x > 0 else 0, na_action = 'ignore')\n",
    "data['log_date_diff'] = data['date_diff'].map(lambda x: log(x + 1) if x > 0 else 0, na_action = 'ignore')"
   ]
  },
  {
   "cell_type": "markdown",
   "metadata": {},
   "source": [
    "### Build GLM"
   ]
  },
  {
   "cell_type": "code",
   "execution_count": 4,
   "metadata": {},
   "outputs": [
    {
     "name": "stderr",
     "output_type": "stream",
     "text": [
      "C:\\ProgramData\\Anaconda3\\lib\\site-packages\\statsmodels\\compat\\pandas.py:56: FutureWarning: The pandas.core.datetools module is deprecated and will be removed in a future version. Please use the pandas.tseries module instead.\n",
      "  from pandas.core import datetools\n"
     ]
    }
   ],
   "source": [
    "import statsmodels.api as sm\n",
    "import statsmodels.formula.api as smf"
   ]
  },
  {
   "cell_type": "code",
   "execution_count": 5,
   "metadata": {},
   "outputs": [],
   "source": [
    "# Isolate data down for GLM:\n",
    "data_glm = data[['target_var', 'num1', 'num2', 'num5', 'binary1', 'binary2', 'log_date_diff', 'cat1', 'cat3_1D', 'dummy_rating_cat']].copy()"
   ]
  },
  {
   "cell_type": "code",
   "execution_count": 6,
   "metadata": {},
   "outputs": [
    {
     "data": {
      "text/html": [
       "<table class=\"simpletable\">\n",
       "<caption>Generalized Linear Model Regression Results</caption>\n",
       "<tr>\n",
       "  <th>Dep. Variable:</th>     <td>target_var</td>    <th>  No. Observations:  </th>  <td>  1950</td> \n",
       "</tr>\n",
       "<tr>\n",
       "  <th>Model:</th>                 <td>GLM</td>       <th>  Df Residuals:      </th>  <td>  1932</td> \n",
       "</tr>\n",
       "<tr>\n",
       "  <th>Model Family:</th>        <td>Poisson</td>     <th>  Df Model:          </th>  <td>    17</td> \n",
       "</tr>\n",
       "<tr>\n",
       "  <th>Link Function:</th>         <td>log</td>       <th>  Scale:             </th>    <td>1.0</td>  \n",
       "</tr>\n",
       "<tr>\n",
       "  <th>Method:</th>               <td>IRLS</td>       <th>  Log-Likelihood:    </th> <td> -2554.8</td>\n",
       "</tr>\n",
       "<tr>\n",
       "  <th>Date:</th>           <td>Tue, 10 Mar 2020</td> <th>  Deviance:          </th> <td>  3832.9</td>\n",
       "</tr>\n",
       "<tr>\n",
       "  <th>Time:</th>               <td>20:02:48</td>     <th>  Pearson chi2:      </th> <td>6.92e+03</td>\n",
       "</tr>\n",
       "<tr>\n",
       "  <th>No. Iterations:</th>        <td>25</td>        <th>                     </th>     <td> </td>   \n",
       "</tr>\n",
       "</table>\n",
       "<table class=\"simpletable\">\n",
       "<tr>\n",
       "               <td></td>                 <th>coef</th>     <th>std err</th>      <th>z</th>      <th>P>|z|</th>  <th>[0.025</th>    <th>0.975]</th>  \n",
       "</tr>\n",
       "<tr>\n",
       "  <th>Intercept</th>                  <td>  -13.5924</td> <td> 8.02e+04</td> <td>   -0.000</td> <td> 1.000</td> <td>-1.57e+05</td> <td> 1.57e+05</td>\n",
       "</tr>\n",
       "<tr>\n",
       "  <th>C(cat1)[T.N]</th>               <td>    0.1679</td> <td> 1.61e+05</td> <td> 1.04e-06</td> <td> 1.000</td> <td>-3.16e+05</td> <td> 3.16e+05</td>\n",
       "</tr>\n",
       "<tr>\n",
       "  <th>C(cat1)[T.P]</th>               <td>   23.9431</td> <td>  1.6e+05</td> <td>    0.000</td> <td> 1.000</td> <td>-3.14e+05</td> <td> 3.14e+05</td>\n",
       "</tr>\n",
       "<tr>\n",
       "  <th>C(cat1)[T.R]</th>               <td>   25.7117</td> <td>  1.6e+05</td> <td>    0.000</td> <td> 1.000</td> <td>-3.14e+05</td> <td> 3.14e+05</td>\n",
       "</tr>\n",
       "<tr>\n",
       "  <th>C(cat3_1D)[T.2]</th>            <td>    0.0927</td> <td>    0.167</td> <td>    0.555</td> <td> 0.579</td> <td>   -0.235</td> <td>    0.420</td>\n",
       "</tr>\n",
       "<tr>\n",
       "  <th>C(cat3_1D)[T.3]</th>            <td>    0.1230</td> <td>    0.177</td> <td>    0.694</td> <td> 0.488</td> <td>   -0.225</td> <td>    0.471</td>\n",
       "</tr>\n",
       "<tr>\n",
       "  <th>C(cat3_1D)[T.4]</th>            <td>    0.1232</td> <td>    0.190</td> <td>    0.649</td> <td> 0.516</td> <td>   -0.249</td> <td>    0.495</td>\n",
       "</tr>\n",
       "<tr>\n",
       "  <th>C(cat3_1D)[T.5]</th>            <td>   -0.0417</td> <td>    0.148</td> <td>   -0.282</td> <td> 0.778</td> <td>   -0.332</td> <td>    0.248</td>\n",
       "</tr>\n",
       "<tr>\n",
       "  <th>C(cat3_1D)[T.6]</th>            <td>    0.1761</td> <td>    0.147</td> <td>    1.196</td> <td> 0.232</td> <td>   -0.112</td> <td>    0.465</td>\n",
       "</tr>\n",
       "<tr>\n",
       "  <th>C(cat3_1D)[T.7]</th>            <td>    0.1542</td> <td>    0.148</td> <td>    1.043</td> <td> 0.297</td> <td>   -0.136</td> <td>    0.444</td>\n",
       "</tr>\n",
       "<tr>\n",
       "  <th>C(cat3_1D)[T.8]</th>            <td>    0.5128</td> <td>    0.143</td> <td>    3.585</td> <td> 0.000</td> <td>    0.232</td> <td>    0.793</td>\n",
       "</tr>\n",
       "<tr>\n",
       "  <th>C(cat3_1D)[T.9]</th>            <td>    1.3185</td> <td>    0.183</td> <td>    7.209</td> <td> 0.000</td> <td>    0.960</td> <td>    1.677</td>\n",
       "</tr>\n",
       "<tr>\n",
       "  <th>C(dummy_rating_cat)[T.1.0]</th> <td>    0.0594</td> <td>    0.057</td> <td>    1.051</td> <td> 0.293</td> <td>   -0.051</td> <td>    0.170</td>\n",
       "</tr>\n",
       "<tr>\n",
       "  <th>num1</th>                       <td>   -0.0002</td> <td>    0.000</td> <td>   -1.070</td> <td> 0.285</td> <td>   -0.001</td> <td>    0.000</td>\n",
       "</tr>\n",
       "<tr>\n",
       "  <th>num2</th>                       <td>    0.0196</td> <td>    0.001</td> <td>   27.017</td> <td> 0.000</td> <td>    0.018</td> <td>    0.021</td>\n",
       "</tr>\n",
       "<tr>\n",
       "  <th>num5</th>                       <td>   -0.0286</td> <td>    0.040</td> <td>   -0.720</td> <td> 0.471</td> <td>   -0.106</td> <td>    0.049</td>\n",
       "</tr>\n",
       "<tr>\n",
       "  <th>binary1</th>                    <td>   -0.4973</td> <td>    0.057</td> <td>   -8.685</td> <td> 0.000</td> <td>   -0.610</td> <td>   -0.385</td>\n",
       "</tr>\n",
       "<tr>\n",
       "  <th>binary2</th>                    <td>  -13.5924</td> <td> 8.02e+04</td> <td>   -0.000</td> <td> 1.000</td> <td>-1.57e+05</td> <td> 1.57e+05</td>\n",
       "</tr>\n",
       "<tr>\n",
       "  <th>log_date_diff</th>              <td>    0.1647</td> <td>    0.049</td> <td>    3.344</td> <td> 0.001</td> <td>    0.068</td> <td>    0.261</td>\n",
       "</tr>\n",
       "</table>"
      ],
      "text/plain": [
       "<class 'statsmodels.iolib.summary.Summary'>\n",
       "\"\"\"\n",
       "                 Generalized Linear Model Regression Results                  \n",
       "==============================================================================\n",
       "Dep. Variable:             target_var   No. Observations:                 1950\n",
       "Model:                            GLM   Df Residuals:                     1932\n",
       "Model Family:                 Poisson   Df Model:                           17\n",
       "Link Function:                    log   Scale:                             1.0\n",
       "Method:                          IRLS   Log-Likelihood:                -2554.8\n",
       "Date:                Tue, 10 Mar 2020   Deviance:                       3832.9\n",
       "Time:                        20:02:48   Pearson chi2:                 6.92e+03\n",
       "No. Iterations:                    25                                         \n",
       "==============================================================================================\n",
       "                                 coef    std err          z      P>|z|      [0.025      0.975]\n",
       "----------------------------------------------------------------------------------------------\n",
       "Intercept                    -13.5924   8.02e+04     -0.000      1.000   -1.57e+05    1.57e+05\n",
       "C(cat1)[T.N]                   0.1679   1.61e+05   1.04e-06      1.000   -3.16e+05    3.16e+05\n",
       "C(cat1)[T.P]                  23.9431    1.6e+05      0.000      1.000   -3.14e+05    3.14e+05\n",
       "C(cat1)[T.R]                  25.7117    1.6e+05      0.000      1.000   -3.14e+05    3.14e+05\n",
       "C(cat3_1D)[T.2]                0.0927      0.167      0.555      0.579      -0.235       0.420\n",
       "C(cat3_1D)[T.3]                0.1230      0.177      0.694      0.488      -0.225       0.471\n",
       "C(cat3_1D)[T.4]                0.1232      0.190      0.649      0.516      -0.249       0.495\n",
       "C(cat3_1D)[T.5]               -0.0417      0.148     -0.282      0.778      -0.332       0.248\n",
       "C(cat3_1D)[T.6]                0.1761      0.147      1.196      0.232      -0.112       0.465\n",
       "C(cat3_1D)[T.7]                0.1542      0.148      1.043      0.297      -0.136       0.444\n",
       "C(cat3_1D)[T.8]                0.5128      0.143      3.585      0.000       0.232       0.793\n",
       "C(cat3_1D)[T.9]                1.3185      0.183      7.209      0.000       0.960       1.677\n",
       "C(dummy_rating_cat)[T.1.0]     0.0594      0.057      1.051      0.293      -0.051       0.170\n",
       "num1                          -0.0002      0.000     -1.070      0.285      -0.001       0.000\n",
       "num2                           0.0196      0.001     27.017      0.000       0.018       0.021\n",
       "num5                          -0.0286      0.040     -0.720      0.471      -0.106       0.049\n",
       "binary1                       -0.4973      0.057     -8.685      0.000      -0.610      -0.385\n",
       "binary2                      -13.5924   8.02e+04     -0.000      1.000   -1.57e+05    1.57e+05\n",
       "log_date_diff                  0.1647      0.049      3.344      0.001       0.068       0.261\n",
       "==============================================================================================\n",
       "\"\"\""
      ]
     },
     "execution_count": 6,
     "metadata": {},
     "output_type": "execute_result"
    }
   ],
   "source": [
    "# Add constant:\n",
    "data_glm = sm.add_constant(data_glm)\n",
    "\n",
    "# Model build:\n",
    "model = smf.glm(\"target_var ~ num1 + num2 + num5 + binary1 + binary2 + log_date_diff + C(cat1) + C(cat3_1D) + C(dummy_rating_cat)\",\n",
    "                family = sm.families.Poisson(link = sm.genmod.families.links.log), data = data_glm).fit()\n",
    "model.summary()"
   ]
  },
  {
   "cell_type": "code",
   "execution_count": 7,
   "metadata": {},
   "outputs": [],
   "source": [
    "# Save model:\n",
    "with open('Sample GLM Model/sample_glm.pkl', 'wb') as pickle_file:\n",
    "    pk.dump(model, pickle_file)"
   ]
  },
  {
   "cell_type": "markdown",
   "metadata": {},
   "source": [
    "### Try a prediction"
   ]
  },
  {
   "cell_type": "code",
   "execution_count": 8,
   "metadata": {},
   "outputs": [],
   "source": [
    "col_order = ['num1', 'num2', 'num5', 'binary1', 'binary2', 'log_date_diff', 'cat1', 'cat3_1D', 'dummy_rating_cat']\n",
    "\n",
    "rec = data_glm.iloc[3:4]\n",
    "rec = rec[col_order]"
   ]
  },
  {
   "cell_type": "code",
   "execution_count": 9,
   "metadata": {},
   "outputs": [
    {
     "data": {
      "text/plain": [
       "3    0.548093\n",
       "dtype: float64"
      ]
     },
     "execution_count": 9,
     "metadata": {},
     "output_type": "execute_result"
    }
   ],
   "source": [
    "rec_glm = sm.add_constant(rec)\n",
    "model.predict(rec_glm)"
   ]
  },
  {
   "cell_type": "code",
   "execution_count": 12,
   "metadata": {},
   "outputs": [
    {
     "data": {
      "text/plain": [
       "[{'binary1': 1,\n",
       "  'binary2': 1,\n",
       "  'binary3': 1,\n",
       "  'cat1': 'R',\n",
       "  'cat2': 'PP',\n",
       "  'cat3': 7389.0,\n",
       "  'date1': Timestamp('2018-02-12 00:00:00'),\n",
       "  'date2': Timestamp('2019-02-12 00:00:00'),\n",
       "  'dummy_name': '1Tv!5Ns+',\n",
       "  'dummy_rating': 'A1',\n",
       "  'num1': 2011.0,\n",
       "  'num2': 21.0,\n",
       "  'num3': 528.0,\n",
       "  'num4': 80.0,\n",
       "  'num5': 1431.0,\n",
       "  'pca1': 1.2,\n",
       "  'pca10': 1.1,\n",
       "  'pca2': 1.94,\n",
       "  'pca3': 1.88,\n",
       "  'pca4': 1.61,\n",
       "  'pca5': 1.72,\n",
       "  'pca6': 1.79,\n",
       "  'pca7': 1.62,\n",
       "  'pca8': 1.24,\n",
       "  'pca9': 1.44,\n",
       "  'row_id': 4,\n",
       "  'target_var': 0}]"
      ]
     },
     "execution_count": 12,
     "metadata": {},
     "output_type": "execute_result"
    }
   ],
   "source": [
    "data0.iloc[3:4].to_dict('records')"
   ]
  }
 ],
 "metadata": {
  "kernelspec": {
   "display_name": "Python 3",
   "language": "python",
   "name": "python3"
  },
  "language_info": {
   "codemirror_mode": {
    "name": "ipython",
    "version": 3
   },
   "file_extension": ".py",
   "mimetype": "text/x-python",
   "name": "python",
   "nbconvert_exporter": "python",
   "pygments_lexer": "ipython3",
   "version": "3.6.3"
  }
 },
 "nbformat": 4,
 "nbformat_minor": 2
}
